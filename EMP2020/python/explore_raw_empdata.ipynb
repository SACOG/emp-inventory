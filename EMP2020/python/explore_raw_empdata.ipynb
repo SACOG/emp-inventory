{
 "cells": [
  {
   "cell_type": "code",
   "execution_count": 63,
   "metadata": {},
   "outputs": [],
   "source": [
    "\"\"\"\n",
    "explore_raw_empdata.ipynb\n",
    "Purpose:\n",
    "    Basic wrangling and exploration of the raw Data Axle employment data\n",
    "\n",
    "\"\"\"\n",
    "\n",
    "import pandas as pd\n",
    "\n",
    "# STEP 1: LOAD DATAFRAME AND GIVE IT MORE INTUITIVE FIELD NAMES\n",
    "\n",
    "cols_raw = ['CONAME', 'LOCNUM', 'SITE', 'STADDR', 'STCITY', 'ZIP',\n",
    "            'CNTYCD', 'CCNTY', 'NAICS', 'NAICSD', 'LOCEMP', \n",
    "            'YREY2K', 'LMDATE', 'LNGNAM', 'latitude', 'longitude', 'geo_level']\n",
    "\n",
    "cols_rename = ['CompName', 'LocID', 'SITE', 'Address', 'City', 'ZIP', \n",
    "        'CountyID', 'CntyCensus', 'NAICS', 'NAICSD', 'EmpCnt_LocID', \n",
    "        'YearEstd', 'DateModified', 'LongName', 'latitude', 'longitude', 'geo_level']\n",
    "\n",
    "col_rename_dict = dict(zip(cols_raw, cols_rename))\n",
    "\n",
    "def memory_optimization(in_df):\n",
    "    '''Takes in a pandas dataframe and converts it to have optimized, low-memory\n",
    "    data types'''\n",
    "    # common default data types that can be reduced to more memory-efficient type\n",
    "    dtype_obj = 'object'\n",
    "    dtypes_int = ['int64', 'uint64']\n",
    "    dtypes_float = ['float64']\n",
    "    \n",
    "    # category dtype is far more efficient way to store strings if not many unique string values.\n",
    "    dtype_category = 'category'\n",
    "    downcast_float = 'float'\n",
    "    downcast_int = 'integer'\n",
    "    \n",
    "    for col in in_df.columns:\n",
    "        start_dtype = in_df[col].dtype\n",
    "        if start_dtype in dtypes_int:\n",
    "            in_df[col] = pd.to_numeric(in_df[col], downcast=downcast_int) # sets to biggest size necessary, not biggest size possible\n",
    "        elif start_dtype in dtypes_float:\n",
    "            in_df[col] = pd.to_numeric(in_df[col], downcast=downcast_float)\n",
    "        elif start_dtype == dtype_obj:\n",
    "            # if number of unique string vals is less than 40% of the total number of vals in column,\n",
    "            # then recode as category instead of string, which will save significant memory\n",
    "            if len(in_df[col].unique()) / len(in_df[col]) < 0.4:\n",
    "                in_df[col] = in_df[col].astype(dtype_category)\n",
    "            else:\n",
    "                continue\n",
    "        else:\n",
    "            continue\n",
    "            \n",
    "raw_csv = r\"P:\\Employment Inventory\\Employment 2020\\Data Axle Raw - DO NOT MODIFY\\SACOG Jan 2020.csv\"\n",
    "df_raw = pd.read_csv(raw_csv, usecols=cols_raw)\n",
    "\n",
    "# change datatypes to significantly reduce df memory usage\n",
    "memory_optimization(df_raw)\n",
    "\n",
    "df_raw = df_raw.rename(columns=col_rename_dict)"
   ]
  },
  {
   "cell_type": "code",
   "execution_count": 64,
   "metadata": {},
   "outputs": [
    {
     "name": "stdout",
     "output_type": "stream",
     "text": [
      "Index(['CompName', 'LocID', 'SITE', 'Address', 'City', 'ZIP', 'CountyID',\n",
      "       'CntyCensus', 'NAICS', 'NAICSD', 'EmpCnt_LocID', 'YearEstd',\n",
      "       'DateModified', 'LongName', 'latitude', 'longitude', 'geo_level'],\n",
      "      dtype='object')\n",
      "(417105, 17)\n"
     ]
    }
   ],
   "source": [
    "print(df_raw.columns)\n",
    "print(df_raw.shape)"
   ]
  },
  {
   "cell_type": "code",
   "execution_count": 65,
   "metadata": {},
   "outputs": [
    {
     "data": {
      "text/plain": [
       "(412588, 6)"
      ]
     },
     "execution_count": 65,
     "metadata": {},
     "output_type": "execute_result"
    }
   ],
   "source": [
    "# Get unique locations\n",
    "gb_cols = ['CompName', 'Address', 'ZIP', 'latitude', 'longitude', 'EmpCnt_LocID']\n",
    "\n",
    "\n",
    "df_uniqloc = df_raw[gb_cols].drop_duplicates() \\\n",
    "             .sort_values(by=['EmpCnt_LocID','latitude','longitude','Address','CompName'],\n",
    "                         ascending=[False, True, True, True, True])\n",
    "\n",
    "df_uniqloc.shape\n"
   ]
  },
  {
   "cell_type": "code",
   "execution_count": 90,
   "metadata": {},
   "outputs": [
    {
     "data": {
      "text/plain": [
       "(array([1.46441e+05, 1.46179e+05, 3.42320e+04, 3.86160e+04, 1.45790e+04,\n",
       "        3.29000e+03, 7.23500e+03, 4.73000e+03, 1.08900e+03, 3.80600e+03,\n",
       "        1.21600e+03, 4.60000e+02, 2.82100e+03, 7.35000e+02, 4.05000e+02,\n",
       "        1.63600e+03, 3.40000e+02, 5.50000e+01, 1.80800e+03, 2.55000e+02,\n",
       "        5.90000e+01, 5.80000e+02, 1.40000e+02, 2.20000e+01, 6.38000e+02,\n",
       "        1.06000e+02, 6.60000e+01, 3.32000e+02, 1.58000e+02, 3.50000e+01,\n",
       "        8.91000e+02, 7.60000e+01, 2.90000e+01, 2.24000e+02, 4.70000e+01,\n",
       "        2.10000e+01, 4.46000e+02, 4.50000e+01, 2.10000e+01, 1.37000e+02,\n",
       "        3.50000e+01, 2.70000e+01, 3.29000e+02, 2.70000e+01, 5.00000e+00,\n",
       "        1.72000e+02, 5.60000e+01, 7.00000e+00, 1.93000e+02, 8.00000e+00,\n",
       "        7.00000e+00, 7.00000e+01, 7.00000e+00, 6.00000e+00, 9.70000e+01,\n",
       "        1.30000e+01, 2.00000e+00, 2.80000e+01, 1.30000e+01, 4.62000e+02]),\n",
       " array([  0.        ,   1.66666667,   3.33333333,   5.        ,\n",
       "          6.66666667,   8.33333333,  10.        ,  11.66666667,\n",
       "         13.33333333,  15.        ,  16.66666667,  18.33333333,\n",
       "         20.        ,  21.66666667,  23.33333333,  25.        ,\n",
       "         26.66666667,  28.33333333,  30.        ,  31.66666667,\n",
       "         33.33333333,  35.        ,  36.66666667,  38.33333333,\n",
       "         40.        ,  41.66666667,  43.33333333,  45.        ,\n",
       "         46.66666667,  48.33333333,  50.        ,  51.66666667,\n",
       "         53.33333333,  55.        ,  56.66666667,  58.33333333,\n",
       "         60.        ,  61.66666667,  63.33333333,  65.        ,\n",
       "         66.66666667,  68.33333333,  70.        ,  71.66666667,\n",
       "         73.33333333,  75.        ,  76.66666667,  78.33333333,\n",
       "         80.        ,  81.66666667,  83.33333333,  85.        ,\n",
       "         86.66666667,  88.33333333,  90.        ,  91.66666667,\n",
       "         93.33333333,  95.        ,  96.66666667,  98.33333333,\n",
       "        100.        ]),\n",
       " <BarContainer object of 60 artists>)"
      ]
     },
     "execution_count": 90,
     "metadata": {},
     "output_type": "execute_result"
    },
    {
     "data": {
      "image/png": "[encoded data removed]",
      "text/plain": [
       "<Figure size 432x288 with 1 Axes>"
      ]
     },
     "metadata": {
      "needs_background": "light"
     },
     "output_type": "display_data"
    }
   ],
   "source": [
    "# histogram of emp counts\n",
    "import numpy as np\n",
    "import matplotlib.pyplot as mplp\n",
    "\n",
    "hist = np.histogram(df_raw['EmpCnt_LocID'])\n",
    "mplp.hist(df_raw['EmpCnt_LocID'], bins=60, range=(0,100))\n",
    "\n",
    "# df_raw.hist(column='EmpCnt_LocID', bins=10)\n"
   ]
  },
  {
   "cell_type": "code",
   "execution_count": 45,
   "metadata": {},
   "outputs": [
    {
     "data": {
      "text/plain": [
       "1"
      ]
     },
     "execution_count": 45,
     "metadata": {},
     "output_type": "execute_result"
    }
   ],
   "source": [
    "# Do any company names have multiple DISTINCT geo levels, even if they have the same address?\n",
    "\n",
    "# need df with distinct co name, address, and geo-levels\n",
    "df_d = df_raw[['CompName', 'Address', 'City', 'geo_level']].drop_duplicates()\n",
    "\n",
    "df_d_g = df_d.groupby(['CompName', 'Address', 'City'], observed=True).count()\n",
    "\n",
    "# result: max value = 1, so there are no company locations duplicated due to having separate points for the \n",
    "# parcel vs. entry point location\n",
    "df_d_g.geo_level.max()"
   ]
  },
  {
   "cell_type": "code",
   "execution_count": 61,
   "metadata": {},
   "outputs": [],
   "source": [
    "# get a sample of similar strings to test fuzzywuzzy module\n",
    "\n",
    "df_k = df_raw.loc[df_raw['CompName'].str.contains('Kaiser', na=False)][['CompName', 'SITE', 'Address', 'City', 'ZIP',  'NAICS', 'NAICSD', 'EmpCnt_LocID',\n",
    "       'YearEstd', 'DateModified', 'DateVerified','ADDDAT', 'DateChange', 'latitude', 'longitude'\n",
    "      ,'geo_level']].drop_duplicates()\n",
    "\n",
    "df_k = df_k.sort_values(by=['CompName', 'Address'])\n",
    "df_k.shape\n",
    "\n",
    "df_k.to_csv(r'I:\\Projects\\Darren\\EmpInventory\\CSV\\kaiser.csv')\n",
    "\n",
    "# df_k[['CompName', 'SITE', 'Address', 'City', 'ZIP',  'NAICS', 'NAICSD', 'EmpCnt_LocID',\n",
    "#        'YearEstd', 'DateModified', 'DateVerified','ADDDAT', 'DateChange', 'latitude', 'longitude'\n",
    "#       ,'geo_level']].head(20)"
   ]
  },
  {
   "cell_type": "code",
   "execution_count": 105,
   "metadata": {},
   "outputs": [
    {
     "name": "stdout",
     "output_type": "stream",
     "text": [
      "86416\n",
      "146064\n"
     ]
    }
   ],
   "source": [
    "# distinct lat-longs\n",
    "# if you added an integer col to master table with \"lat long ID\" for each row, what would that accomplish?\n",
    "# \n",
    "df_raw[['latitude', 'longitude']].drop_duplicates().shape\n",
    "\n",
    "dful = df_raw[['latitude', 'longitude']].drop_duplicates()\n",
    "dful.head()\n",
    "\n",
    "df_recs = dful.to_records(index=False)\n",
    "df_recs[4]\n",
    "\n",
    "ll_id_dict = {}\n",
    "\n",
    "for i, rec in enumerate(df_recs):\n",
    "    k = rec[0] * rec[1] # get unique ID by multiplying lat * long? NO! does not create unique values\n",
    "    if ll_id_dict.get(k):\n",
    "        continue\n",
    "    else:\n",
    "        ll_id_dict[k] = i\n",
    "\n",
    "    \n",
    "# next thing to try (3/26/2021): get unique lats and give each their own UID, then do same for longs,\n",
    "# which will give you new UIDs for each coord dimension, then can just concantenate ints instead of long floats?\n",
    "# test will always be that number of UIDs must match number of unique lat-long pairs\n",
    "    \n",
    "print(len(ll_id_dict.keys()))\n",
    "print(len(df_recs))"
   ]
  }
 ],
 "metadata": {
  "kernelspec": {
   "display_name": "Python 3",
   "language": "python",
   "name": "python3"
  },
  "language_info": {
   "codemirror_mode": {
    "name": "ipython",
    "version": 3
   },
   "file_extension": ".py",
   "mimetype": "text/x-python",
   "name": "python",
   "nbconvert_exporter": "python",
   "pygments_lexer": "ipython3",
   "version": "3.7.9"
  }
 },
 "nbformat": 4,
 "nbformat_minor": 4
}
