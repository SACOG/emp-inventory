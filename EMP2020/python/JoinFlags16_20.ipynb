{
 "cells": [
  {
   "cell_type": "markdown",
   "metadata": {},
   "source": [
    "# Join Flags for 2016-2020 joining\n",
    "In SQL server, an initial join was done between the 2020 employment inventory table and the 2016 table based on the LOCNUM field of 2020 = INFOID_16 field of 2016. From this, most records had a match.\n",
    "\n",
    "## Join methodology\n",
    "Join SQL File - https://github.com/SACOG/emp-inventory/blob/main/EMP2020/SQL/Join16_20_Tests_SG.sql\n",
    "\n",
    "Steps in SQL:\n",
    "1. Join 2016 to 2020 based on LOCNUM = INFOID_16\n",
    "2. If there was no 2016 match to a 2020 record after doing the ID-based join, then fill in missing 2016 values based on company name and street addresses both having exact matches (i.e., address2020 = address2016 and bizname2020 = bizname2016).\n",
    "\n",
    "The resulting table still has rows where there's 2020 but not a corresponding 2016 value, and should still have a 2016 value but do not because the address or biz name changed slightly between the two years. One role of this script is to identify, through the `fuzzywuzzy` python library, where such cases are.\n",
    "\n",
    "## Fields considered\n",
    "* LOCNUM / INFOID_16 - the \"unique ID\" fields for the respective years\n",
    "* Business name (coname / coname16) field\n",
    "* Biz address field (staddr / staddr16)\n",
    "\n",
    "## Possible check results\n",
    "* FullExMatch = the LOCNUM in 2020 has a matching INFOID_16 value, and the biz name and address are an EXACT match\n",
    "* FullFzMatch = the LOCNUM in 2020 has a matching INFOID_16 value, and the biz name and address are a FUZZY match (`fuzz.ratio` > 80)\n",
    "* IDMatchNameChg = the IDs match between the two years, but the biz name changed\n",
    "* IDMatchAddrChg = the IDs match between the two years, but the biz address changed\n",
    "* IDMatchNameAddrChg = the IDs match between the two years, but the biz address and the biz name changed\n",
    "* NamAddrExMatch = IDs do not match between 2016 and 2020, but the business name and address are an EXACT match\n",
    "* NamAddrFzMatch = IDs do not match between 2016 and 2020, but the business name and address are a FUZZY match (`fuzz.ratio` > 80)\n",
    "* NoMatch = The IDs do not match, nor is there a FUZZY match between both the name and address\n",
    "\n"
   ]
  },
  {
   "cell_type": "code",
   "execution_count": 1,
   "metadata": {},
   "outputs": [],
   "source": [
    "# define key variables and parameters\n",
    "in_csv = r\"\\\\data-svr\\Monitoring\\Employment Inventory\\Employment 2020\\SQL\\TestDupeFlag20210412_1754_2.csv\"\n",
    "\n",
    "match_threshold = 80 # if fuzzy match below this number, then flag the values as being different\n",
    "\n",
    "fld_coname20 = 'coname'\n",
    "fld_locnum20 = 'locnum'\n",
    "fld_staddr20 = 'staddr'\n",
    "fld_zip = 'zip'\n",
    "fld_naics = 'naics'\n",
    "fld_naicsd = 'naicsd'\n",
    "fld_home = 'home'\n",
    "fld_locemp20 = 'locemp'\n",
    "fld_latitude = 'latitude'\n",
    "fld_longitude = 'longitude'\n",
    "fld_geo_level = 'geo_level'\n",
    "fld_naics4 = 'naics4'\n",
    "fld_dupe_flag = 'dupe_flag'\n",
    "fld_latlon_uid = 'latlon_uid'\n",
    "fld_coname16 = 'coname16'\n",
    "fld_staddr16 = 'staddr16'\n",
    "fld_emp16 = 'emp16'\n",
    "fld_notes16 = 'notes16'\n",
    "fld_infoid16 = 'infoid16'\n",
    "\n",
    "fld_jflag = 'join_flag'\n",
    "\n",
    "\n",
    "\n"
   ]
  },
  {
   "cell_type": "code",
   "execution_count": 7,
   "metadata": {},
   "outputs": [],
   "source": [
    "# Load and set up table and flag function\n",
    "\n",
    "import pandas as pd\n",
    "import numpy as np\n",
    "from fuzzywuzzy import fuzz\n",
    "\n",
    "df = pd.read_csv(in_csv)\n",
    "\n",
    "df[fld_jflag] = '_'\n",
    "\n",
    "df[fld_locnum20] = df[fld_locnum20].astype(str)\n",
    "df[fld_infoid16] = df[fld_infoid16].astype(str)\n",
    "\n",
    "\n",
    "\n"
   ]
  },
  {
   "cell_type": "code",
   "execution_count": 8,
   "metadata": {},
   "outputs": [
    {
     "data": {
      "text/plain": [
       "(109111, 20)"
      ]
     },
     "execution_count": 8,
     "metadata": {},
     "output_type": "execute_result"
    }
   ],
   "source": [
    "df.loc[df[fld_locnum20] == df[fld_infoid16]].shape"
   ]
  },
  {
   "cell_type": "code",
   "execution_count": 9,
   "metadata": {},
   "outputs": [],
   "source": [
    "# Find and flag records that have ID match in both years but whose names and address significantly differ\n",
    "\n",
    "\"\"\"\n",
    "* FullExMatch = the LOCNUM in 2020 has a matching INFOID_16 value, and the biz name and address are an EXACT match\n",
    "* FullFzMatch = the LOCNUM in 2020 has a matching INFOID_16 value, and the biz name and address are a FUZZY match (`fuzz.ratio` > 80)\n",
    "* IDMatchNameChg = the IDs match between the two years, but the biz name changed\n",
    "* IDMatchAddrChg = the IDs match between the two years, but the biz address changed\n",
    "* IDMatchNameAddrChg = the IDs match between the two years, but the biz address and the biz name changed\n",
    "* NamAddrExMatch = IDs do not match between 2016 and 2020, but the business name and address are an EXACT match\n",
    "* NamAddrFzMatch = IDs do not match between 2016 and 2020, but the business name and address are a FUZZY match (`fuzz.ratio` > 80)\n",
    "* NoMatch = The IDs do not match, nor is there a FUZZY match between both the name and address\n",
    "\"\"\"\n",
    "\n",
    "def get_jflag_1(in_row):\n",
    "    \n",
    "    jflag_fullmatch = 'FullExMatch'\n",
    "    jflag_idfuzzmatch = 'FullFzMatch'\n",
    "    jflag_newname = \"IDMatchNameChg\" \n",
    "    jflag_newaddr = \"IDMatchAddrChg\" \n",
    "    jflag_nmaddrchg = \"IDMatchNameAddrChg\" \n",
    "    jflag_nmaddrematch = 'NamAddrExMatch' \n",
    "    jflag_nmaddrfmatch = 'NamAddrFzMatch' \n",
    "    jflag_nomatch16 = 'NotMatch16' \n",
    "    \n",
    "    id16 = in_row[fld_infoid16]\n",
    "    id20 = in_row[fld_locnum20]\n",
    "    name16 = str(in_row[fld_coname16])\n",
    "    name20 = str(in_row[fld_coname20])\n",
    "    addr16 = str(in_row[fld_staddr16])\n",
    "    addr20 = str(in_row[fld_staddr20])\n",
    "    \n",
    "    id_match = id16 == id20\n",
    "    name_addr_ematch = name16 == name20 and addr16 == addr20\n",
    "    \n",
    "    name_fuzzmatch = fuzz.ratio(name20, name16) > match_threshold\n",
    "    addr_fuzzmatch = fuzz.ratio(addr20, addr16) > match_threshold\n",
    "    \n",
    "    name_addr_fmatch = name_fuzzmatch & addr_fuzzmatch\n",
    "    \n",
    "    if id_match:\n",
    "        if name_addr_ematch:\n",
    "            output = jflag_fullmatch\n",
    "        elif name_addr_fmatch:\n",
    "            output = jflag_idfuzzmatch\n",
    "        elif name_fuzzmatch and not addr_fuzzmatch: # address changed\n",
    "            output = jflag_newaddr\n",
    "        elif addr_fuzzmatch and not name_fuzzmatch: # biz name changed\n",
    "            output = jflag_newname\n",
    "        elif not addr_fuzzmatch and not name_fuzzmatch: # biz name and address changed\n",
    "            output = jflag_nmaddrchg\n",
    "        else:\n",
    "            output = 'ERROR'\n",
    "    else:\n",
    "        if name_addr_ematch:\n",
    "            output = jflag_nmaddrematch\n",
    "        elif name_addr_fmatch:\n",
    "            output = jflag_nmaddrfmatch\n",
    "        else:\n",
    "            output = jflag_nomatch16\n",
    "            \n",
    "    \n",
    "    return output\n",
    "        \n",
    "        \n",
    "        \n",
    "        \n",
    "        "
   ]
  },
  {
   "cell_type": "code",
   "execution_count": 10,
   "metadata": {},
   "outputs": [
    {
     "name": "stdout",
     "output_type": "stream",
     "text": [
      "12.3 s +- 106 ms per loop (mean +- std. dev. of 7 runs, 1 loop each)\n"
     ]
    }
   ],
   "source": [
    "%timeit df[fld_jflag] = df.apply(lambda x: get_jflag_1(x), axis=1)\n",
    "\n",
    "testcols = [fld_locnum20, fld_coname20, fld_staddr20, fld_infoid16, fld_coname16, fld_staddr16, fld_jflag]\n",
    "\n",
    "\n",
    "\n"
   ]
  },
  {
   "cell_type": "code",
   "execution_count": 11,
   "metadata": {},
   "outputs": [
    {
     "data": {
      "text/plain": [
       "NotMatch16            262700\n",
       "FullExMatch            72301\n",
       "FullFzMatch            26461\n",
       "IDMatchAddrChg          4970\n",
       "IDMatchNameChg          4805\n",
       "NamAddrExMatch          3963\n",
       "IDMatchNameAddrChg       574\n",
       "NamAddrFzMatch           143\n",
       "Name: join_flag, dtype: int64"
      ]
     },
     "execution_count": 11,
     "metadata": {},
     "output_type": "execute_result"
    }
   ],
   "source": [
    "df[fld_jflag].value_counts()\n",
    "\n",
    "# df.loc[(df[fld_jflag] == 'No16ID') & (pd.notnull(df['locnum'])) & (pd.notnull(df['infoid16']))][testcols].head()\n",
    "\n",
    "# dft = df.loc[df[fld_locnum20].isin([104833801, 403881922])]\n",
    "# print(dft.iloc[0]['locnum'])\n",
    "# print(dft.iloc[0]['infoid16'])\n",
    "# print(dft.iloc[0]['infoid16'] - dft.iloc[0]['locnum'])\n",
    "# dft['lnum_str']"
   ]
  },
  {
   "cell_type": "code",
   "execution_count": 12,
   "metadata": {},
   "outputs": [],
   "source": [
    "df.to_csv(r\"\\\\data-svr\\Monitoring\\Employment Inventory\\Employment 2020\\SQL\\Recs_w_2016jnflag_20210419.csv\", index=False)"
   ]
  }
 ],
 "metadata": {
  "kernelspec": {
   "display_name": "ArcGISPro",
   "language": "Python",
   "name": "python3"
  },
  "language_info": {
   "file_extension": ".py",
   "name": "python",
   "version": "3"
  }
 },
 "nbformat": 4,
 "nbformat_minor": 2
}
